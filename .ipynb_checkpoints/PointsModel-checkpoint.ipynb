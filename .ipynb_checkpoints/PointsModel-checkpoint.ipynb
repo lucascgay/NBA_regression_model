{
 "cells": [
  {
   "cell_type": "code",
   "execution_count": 185,
   "id": "b6c941c9-fda5-4d4a-b4c0-423bd2b8eee8",
   "metadata": {},
   "outputs": [
    {
     "name": "stderr",
     "output_type": "stream",
     "text": [
      "/var/folders/2l/tqrw4qgn61q4jrsxc447rydm0000gn/T/ipykernel_69609/3821480157.py:25: FutureWarning: Passing literal html to 'read_html' is deprecated and will be removed in a future version. To read from a literal string, wrap it in a 'StringIO' object.\n",
      "  pts_currtable = pd.read_html(page_source)\n",
      "/var/folders/2l/tqrw4qgn61q4jrsxc447rydm0000gn/T/ipykernel_69609/3821480157.py:25: FutureWarning: Passing literal html to 'read_html' is deprecated and will be removed in a future version. To read from a literal string, wrap it in a 'StringIO' object.\n",
      "  pts_currtable = pd.read_html(page_source)\n",
      "/var/folders/2l/tqrw4qgn61q4jrsxc447rydm0000gn/T/ipykernel_69609/3821480157.py:25: FutureWarning: Passing literal html to 'read_html' is deprecated and will be removed in a future version. To read from a literal string, wrap it in a 'StringIO' object.\n",
      "  pts_currtable = pd.read_html(page_source)\n",
      "/var/folders/2l/tqrw4qgn61q4jrsxc447rydm0000gn/T/ipykernel_69609/3821480157.py:25: FutureWarning: Passing literal html to 'read_html' is deprecated and will be removed in a future version. To read from a literal string, wrap it in a 'StringIO' object.\n",
      "  pts_currtable = pd.read_html(page_source)\n",
      "/var/folders/2l/tqrw4qgn61q4jrsxc447rydm0000gn/T/ipykernel_69609/3821480157.py:25: FutureWarning: Passing literal html to 'read_html' is deprecated and will be removed in a future version. To read from a literal string, wrap it in a 'StringIO' object.\n",
      "  pts_currtable = pd.read_html(page_source)\n",
      "/var/folders/2l/tqrw4qgn61q4jrsxc447rydm0000gn/T/ipykernel_69609/3821480157.py:44: FutureWarning: Passing literal html to 'read_html' is deprecated and will be removed in a future version. To read from a literal string, wrap it in a 'StringIO' object.\n",
      "  ppg_table = pd.read_html(page_source)\n",
      "/var/folders/2l/tqrw4qgn61q4jrsxc447rydm0000gn/T/ipykernel_69609/3821480157.py:57: FutureWarning: Passing literal html to 'read_html' is deprecated and will be removed in a future version. To read from a literal string, wrap it in a 'StringIO' object.\n",
      "  def_table = pd.read_html(page_source)\n"
     ]
    }
   ],
   "source": [
    "from selenium import webdriver\n",
    "from selenium.webdriver.common.by import By\n",
    "from selenium.webdriver.support.ui import WebDriverWait\n",
    "from bs4 import BeautifulSoup\n",
    "import pandas as pd\n",
    "import io\n",
    "\n",
    "# Initialize the WebDriver\n",
    "driver = webdriver.Chrome()\n",
    "\n",
    "# Points Per Player\n",
    "URL = \"https://www.nba.com/stats/leaders?StatCategory=PTS&PerMode=PerGame\"\n",
    "driver.get(URL)\n",
    "\n",
    "pts_prevtable = pd.DataFrame()\n",
    "\n",
    "for i in range(5):\n",
    "    \n",
    "    # Wait for the tables to load (you may need to adjust the timeout)\n",
    "    wait = WebDriverWait(driver, 10)\n",
    "    \n",
    "    # Get the page source\n",
    "    page_source = driver.page_source\n",
    "\n",
    "    pts_currtable = pd.read_html(page_source)\n",
    "\n",
    "    pts_prevtable = pd.concat([prev_table, curr_table[0]], ignore_index=True)\n",
    "    \n",
    "    # Find the \"Next Page\" button and click it\n",
    "    next_button = driver.find_element(By.XPATH, \"//*[@id='__next']/div[2]/div[2]/div[3]/section[2]/div/div[2]/div[2]/div[1]/div[5]/button[2]\")\n",
    "    next_button.click()\n",
    "\n",
    "\n",
    "# Total PPG\n",
    "URL = \"https://www.nba.com/stats/teams/traditional?dir=A&sort=PTS\"\n",
    "driver.get(URL)\n",
    "\n",
    "# Wait for the tables to load (you may need to adjust the timeout)\n",
    "wait = WebDriverWait(driver, 10)\n",
    "\n",
    "# Get the page source\n",
    "page_source = driver.page_source\n",
    "\n",
    "ppg_table = pd.read_html(page_source)\n",
    "\n",
    "\n",
    "#Defense Statistics\n",
    "URL = \"https://www.nba.com/stats/teams/defense\"\n",
    "driver.get(URL)\n",
    "    \n",
    "# Wait for the tables to load (you may need to adjust the timeout)\n",
    "wait = WebDriverWait(driver, 10)\n",
    "\n",
    "# Get the page source\n",
    "page_source = driver.page_source\n",
    "\n",
    "def_table = pd.read_html(page_source)\n",
    "\n",
    "\n",
    "driver.quit()\n"
   ]
  },
  {
   "cell_type": "markdown",
   "id": "f95856c5-6f10-4020-97af-dfb843c8428a",
   "metadata": {},
   "source": [
    "# Data Cleaning #"
   ]
  },
  {
   "cell_type": "code",
   "execution_count": 186,
   "id": "a1b5c8b7-ee72-4e2e-a1a8-12a4074cdc32",
   "metadata": {},
   "outputs": [],
   "source": [
    "# map for changing team names\n",
    "\n",
    "team_mapping = {\n",
    "    'Atlanta Hawks': 'ATL',\n",
    "    'Boston Celtics': 'BOS',\n",
    "    'Brooklyn Nets': 'BKN',\n",
    "    'Charlotte Hornets': 'CHA',\n",
    "    'Chicago Bulls': 'CHI',\n",
    "    'Cleveland Cavaliers': 'CLE',\n",
    "    'Dallas Mavericks': 'DAL',\n",
    "    'Denver Nuggets': 'DEN',\n",
    "    'Detroit Pistons': 'DET',\n",
    "    'Golden State Warriors': 'GSW',\n",
    "    'Houston Rockets': 'HOU',\n",
    "    'Indiana Pacers': 'IND',\n",
    "    'Los Angeles Clippers': 'LAC',\n",
    "    'Los Angeles Lakers': 'LAL',\n",
    "    'Memphis Grizzlies': 'MEM',\n",
    "    'Miami Heat': 'MIA',\n",
    "    'Milwaukee Bucks': 'MIL',\n",
    "    'Minnesota Timberwolves': 'MIN',\n",
    "    'New Orleans Pelicans': 'NOP',\n",
    "    'New York Knicks': 'NYK',\n",
    "    'Oklahoma City Thunder': 'OKC',\n",
    "    'Orlando Magic': 'ORL',\n",
    "    'Philadelphia 76ers': 'PHI',\n",
    "    'Phoenix Suns': 'PHX',\n",
    "    'Portland Trail Blazers': 'POR',\n",
    "    'Sacramento Kings': 'SAC',\n",
    "    'San Antonio Spurs': 'SAS',\n",
    "    'Toronto Raptors': 'TOR',\n",
    "    'Utah Jazz': 'UTA',\n",
    "    'Washington Wizards': 'WAS'\n",
    "}"
   ]
  },
  {
   "cell_type": "code",
   "execution_count": 187,
   "id": "eecbf408-4432-4c62-8244-678f23493e9c",
   "metadata": {
    "scrolled": true
   },
   "outputs": [
    {
     "data": {
      "text/html": [
       "<div>\n",
       "<style scoped>\n",
       "    .dataframe tbody tr th:only-of-type {\n",
       "        vertical-align: middle;\n",
       "    }\n",
       "\n",
       "    .dataframe tbody tr th {\n",
       "        vertical-align: top;\n",
       "    }\n",
       "\n",
       "    .dataframe thead th {\n",
       "        text-align: right;\n",
       "    }\n",
       "</style>\n",
       "<table border=\"1\" class=\"dataframe\">\n",
       "  <thead>\n",
       "    <tr style=\"text-align: right;\">\n",
       "      <th></th>\n",
       "      <th>Player</th>\n",
       "      <th>Team</th>\n",
       "      <th>PTS</th>\n",
       "    </tr>\n",
       "  </thead>\n",
       "  <tbody>\n",
       "    <tr>\n",
       "      <th>0</th>\n",
       "      <td>Donovan Mitchell</td>\n",
       "      <td>CLE</td>\n",
       "      <td>32.5</td>\n",
       "    </tr>\n",
       "    <tr>\n",
       "      <th>1</th>\n",
       "      <td>Joel Embiid</td>\n",
       "      <td>PHI</td>\n",
       "      <td>32.5</td>\n",
       "    </tr>\n",
       "    <tr>\n",
       "      <th>2</th>\n",
       "      <td>Luka Doncic</td>\n",
       "      <td>DAL</td>\n",
       "      <td>31.6</td>\n",
       "    </tr>\n",
       "    <tr>\n",
       "      <th>3</th>\n",
       "      <td>Stephen Curry</td>\n",
       "      <td>GSW</td>\n",
       "      <td>30.9</td>\n",
       "    </tr>\n",
       "    <tr>\n",
       "      <th>4</th>\n",
       "      <td>Jayson Tatum</td>\n",
       "      <td>BOS</td>\n",
       "      <td>30.5</td>\n",
       "    </tr>\n",
       "  </tbody>\n",
       "</table>\n",
       "</div>"
      ],
      "text/plain": [
       "             Player Team   PTS\n",
       "0  Donovan Mitchell  CLE  32.5\n",
       "1       Joel Embiid  PHI  32.5\n",
       "2       Luka Doncic  DAL  31.6\n",
       "3     Stephen Curry  GSW  30.9\n",
       "4      Jayson Tatum  BOS  30.5"
      ]
     },
     "execution_count": 187,
     "metadata": {},
     "output_type": "execute_result"
    }
   ],
   "source": [
    "# Points Data\n",
    "\n",
    "# Minutes played is baked into the points scored, we can assume this will carry over into the next season\n",
    "# Over time this will change which is why we want to always chose the directly previous season\n",
    "\n",
    "df_pts = pts_prevtable\n",
    "df_pts = df_pts[['Player', 'TEAM', 'PTS']]\n",
    "df_pts = df_pts.rename(columns={'TEAM': 'Team'})\n",
    "df_pts.head()"
   ]
  },
  {
   "cell_type": "code",
   "execution_count": 188,
   "id": "681a2b9a-b504-40bd-b134-40dda71be358",
   "metadata": {},
   "outputs": [],
   "source": [
    "# PPG Data (for calculating percent of team points made)\n",
    "\n",
    "df_ppg = ppg_table[2]\n",
    "df_ppg = df_ppg[['Team', 'PTS']]"
   ]
  },
  {
   "cell_type": "code",
   "execution_count": 189,
   "id": "a55e9597-b410-4a4a-9688-5f31b8dbd593",
   "metadata": {},
   "outputs": [
    {
     "name": "stderr",
     "output_type": "stream",
     "text": [
      "/var/folders/2l/tqrw4qgn61q4jrsxc447rydm0000gn/T/ipykernel_69609/2797214932.py:1: SettingWithCopyWarning: \n",
      "A value is trying to be set on a copy of a slice from a DataFrame.\n",
      "Try using .loc[row_indexer,col_indexer] = value instead\n",
      "\n",
      "See the caveats in the documentation: https://pandas.pydata.org/pandas-docs/stable/user_guide/indexing.html#returning-a-view-versus-a-copy\n",
      "  df_ppg['Team'] = df_ppg['Team'].map(team_mapping)\n"
     ]
    },
    {
     "data": {
      "text/html": [
       "<div>\n",
       "<style scoped>\n",
       "    .dataframe tbody tr th:only-of-type {\n",
       "        vertical-align: middle;\n",
       "    }\n",
       "\n",
       "    .dataframe tbody tr th {\n",
       "        vertical-align: top;\n",
       "    }\n",
       "\n",
       "    .dataframe thead th {\n",
       "        text-align: right;\n",
       "    }\n",
       "</style>\n",
       "<table border=\"1\" class=\"dataframe\">\n",
       "  <thead>\n",
       "    <tr style=\"text-align: right;\">\n",
       "      <th></th>\n",
       "      <th>Team</th>\n",
       "      <th>PTS</th>\n",
       "    </tr>\n",
       "  </thead>\n",
       "  <tbody>\n",
       "    <tr>\n",
       "      <th>0</th>\n",
       "      <td>IND</td>\n",
       "      <td>124.9</td>\n",
       "    </tr>\n",
       "    <tr>\n",
       "      <th>1</th>\n",
       "      <td>BOS</td>\n",
       "      <td>123.5</td>\n",
       "    </tr>\n",
       "    <tr>\n",
       "      <th>2</th>\n",
       "      <td>ATL</td>\n",
       "      <td>122.0</td>\n",
       "    </tr>\n",
       "    <tr>\n",
       "      <th>3</th>\n",
       "      <td>PHI</td>\n",
       "      <td>121.5</td>\n",
       "    </tr>\n",
       "    <tr>\n",
       "      <th>4</th>\n",
       "      <td>DAL</td>\n",
       "      <td>120.7</td>\n",
       "    </tr>\n",
       "  </tbody>\n",
       "</table>\n",
       "</div>"
      ],
      "text/plain": [
       "  Team    PTS\n",
       "0  IND  124.9\n",
       "1  BOS  123.5\n",
       "2  ATL  122.0\n",
       "3  PHI  121.5\n",
       "4  DAL  120.7"
      ]
     },
     "execution_count": 189,
     "metadata": {},
     "output_type": "execute_result"
    }
   ],
   "source": [
    "df_ppg['Team'] = df_ppg['Team'].map(team_mapping)\n",
    "df_ppg.head()"
   ]
  },
  {
   "cell_type": "code",
   "execution_count": 208,
   "id": "9a5a7309-06e6-453b-b222-cb6afef7ed98",
   "metadata": {},
   "outputs": [],
   "source": [
    "# Team Defense Data\n",
    "\n",
    "df_def = def_table[2]\n",
    "for s in df_def.columns:\n",
    "    if s == 'DEF RTG':\n",
    "        print(s)\n",
    "        \n",
    "\n",
    "\n",
    "\n"
   ]
  },
  {
   "cell_type": "code",
   "execution_count": 206,
   "id": "650ae829-0d33-4109-be85-82d7c59ce2a4",
   "metadata": {},
   "outputs": [
    {
     "data": {
      "text/plain": [
       "Index(['Unnamed: 0', 'Team', 'GP', 'W', 'L', 'MIN', 'DEF RTG', 'DREB', 'DREB%',\n",
       "       'STL', 'BLK', 'OPP PTS OFF TOV', 'OPP PTS 2ND CHANCE', 'OPP PTS FB',\n",
       "       'OPP PTS PAINT', 'GP RANK', 'W RANK', 'L RANK', 'MIN RANK',\n",
       "       'DEF RTG RANK', 'DREB RANK', 'DREB% RANK', 'STL RANK', 'BLK RANK',\n",
       "       'OPP PTS OFF TOV RANK', 'OPP PTS 2ND CHANCE RANK', 'OPP PTS FB RANK',\n",
       "       'OPP PTS PAINT RANK'],\n",
       "      dtype='object')"
      ]
     },
     "execution_count": 206,
     "metadata": {},
     "output_type": "execute_result"
    }
   ],
   "source": [
    "df_def['TEAM'] = df_def['TEAM'].map(team_mapping)\n",
    "df_def.head()\n",
    "df_def = df_def.rename(columns={'TEAM': 'Team'})\n",
    "\n",
    "df_def.columns"
   ]
  },
  {
   "cell_type": "code",
   "execution_count": 207,
   "id": "66610e30-c06f-4f47-b709-7bb6694c284a",
   "metadata": {},
   "outputs": [],
   "source": [
    "# Factors affecting player point score\n",
    "\n",
    "# Team defense - create regression describing effect of defense on points scored. Normalize for % of points scored per player\n",
    "# Days of rest between games - create regression describing effect of defense on points scored. Normalize for player posessions per game *NEEDS WORK*\n",
    "# Home team advantage - +2.93  =  +3.24 - 0.31 (lesser rest for travel team, accounted for by above factor) https://www.degruyter.com/document/doi/10.2202/1559-0410.1106/html\n",
    "\n",
    "\n"
   ]
  },
  {
   "cell_type": "code",
   "execution_count": null,
   "id": "b96f629d-d885-4ed3-906f-9d6ed6457078",
   "metadata": {},
   "outputs": [],
   "source": []
  }
 ],
 "metadata": {
  "kernelspec": {
   "display_name": "Python 3 (ipykernel)",
   "language": "python",
   "name": "python3"
  },
  "language_info": {
   "codemirror_mode": {
    "name": "ipython",
    "version": 3
   },
   "file_extension": ".py",
   "mimetype": "text/x-python",
   "name": "python",
   "nbconvert_exporter": "python",
   "pygments_lexer": "ipython3",
   "version": "3.11.4"
  }
 },
 "nbformat": 4,
 "nbformat_minor": 5
}
